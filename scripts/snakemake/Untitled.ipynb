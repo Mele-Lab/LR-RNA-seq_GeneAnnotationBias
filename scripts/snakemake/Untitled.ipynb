{
 "cells": [
  {
   "cell_type": "code",
   "execution_count": 2,
   "id": "c3960378-7013-407a-beb9-664e99f0f696",
   "metadata": {},
   "outputs": [],
   "source": [
    "import pandas as pd\n",
    "import pdb\n",
    "import numpy as np\n",
    "import itertools\n",
    "import re\n",
    "\n",
    "from snakemake.io import expand\n",
    "import yaml"
   ]
  },
  {
   "cell_type": "code",
   "execution_count": 9,
   "id": "4acc9c43-855f-4e16-bc76-20decbbe84f4",
   "metadata": {},
   "outputs": [],
   "source": [
    "config_file = 'config.yml'\n",
    "with open(config_file) as f:\n",
    "    config = yaml.safe_load(f)"
   ]
  },
  {
   "cell_type": "code",
   "execution_count": 18,
   "id": "cda59889-bde2-4111-b64e-b1dc1a6b0703",
   "metadata": {},
   "outputs": [
    {
     "data": {
      "text/plain": [
       "'/gpfs/projects/bsc83/utils/Blast2Bam/bin/blast2bam'"
      ]
     },
     "execution_count": 18,
     "metadata": {},
     "output_type": "execute_result"
    }
   ],
   "source": [
    "config['bin']['blast2bam']"
   ]
  },
  {
   "cell_type": "code",
   "execution_count": 12,
   "id": "54e2887b-2fb6-45c0-a398-2e7d34825655",
   "metadata": {},
   "outputs": [],
   "source": [
    "df = pd.read_csv('test_data.tsv', sep='\\t')"
   ]
  },
  {
   "cell_type": "code",
   "execution_count": 13,
   "id": "049e800f-867a-4ea2-bf7a-6f445fb30196",
   "metadata": {},
   "outputs": [
    {
     "data": {
      "text/plain": [
       "['data/blast/sample1.xml', 'data/blast/sample2.xml']"
      ]
     },
     "execution_count": 13,
     "metadata": {},
     "output_type": "execute_result"
    }
   ],
   "source": [
    "expand(config['data']['blast']['xml'],\n",
    "       sample=df['sample'].tolist())"
   ]
  },
  {
   "cell_type": "code",
   "execution_count": 14,
   "id": "94e34dd0-2011-4cf6-96ba-7324527b0fc4",
   "metadata": {},
   "outputs": [],
   "source": [
    "def get_df_val(df, col, sample):\n",
    "    temp = df.loc[df['sample']==sample]\n",
    "    assert len(temp.index) == 1\n",
    "    return temp[col].values[0]"
   ]
  },
  {
   "cell_type": "code",
   "execution_count": 15,
   "id": "7b093520-8080-404f-8f76-6de9daacc459",
   "metadata": {},
   "outputs": [
    {
     "data": {
      "text/plain": [
       "'/gpfs/projects/bsc83/Projects/pantranscriptome/00_ONT_CapTrap_data/test_runs/20230913_HS_15_CH3_GM18631/20230913_HS_15_CH3_GM18631/20230913_1417_X2_FAX06702_d8defc63/FAX06702_pass_d8defc63_883fb55f_CONCAT.fastq'"
      ]
     },
     "execution_count": 15,
     "metadata": {},
     "output_type": "execute_result"
    }
   ],
   "source": [
    "get_df_val(df, 'fname', 'sample1')"
   ]
  },
  {
   "cell_type": "code",
   "execution_count": 16,
   "id": "85055935-fb09-4593-a5a2-38220ca1cf53",
   "metadata": {},
   "outputs": [
    {
     "data": {
      "text/plain": [
       "'/gpfs/projects/bsc83/Projects/pantranscriptome/00_ONT_CapTrap_data/test_runs/20230913_HS_7_NI2_GM18489/20230913_HS_7_NI2_GM18489/20230913_1415_X1_FAX00275_0184915a/FAX00275_pass_0184915a_b0ce8917_CONCAT.fastq'"
      ]
     },
     "execution_count": 16,
     "metadata": {},
     "output_type": "execute_result"
    }
   ],
   "source": [
    "get_df_val(df, 'fname', 'sample2')"
   ]
  },
  {
   "cell_type": "code",
   "execution_count": 17,
   "id": "145b6334-2aac-4552-81bc-1456de932edf",
   "metadata": {},
   "outputs": [
    {
     "ename": "AssertionError",
     "evalue": "",
     "output_type": "error",
     "traceback": [
      "\u001b[0;31m---------------------------------------------------------------------------\u001b[0m",
      "\u001b[0;31mAssertionError\u001b[0m                            Traceback (most recent call last)",
      "\u001b[0;32m<ipython-input-17-c2c4133f50b8>\u001b[0m in \u001b[0;36m<module>\u001b[0;34m\u001b[0m\n\u001b[0;32m----> 1\u001b[0;31m \u001b[0mget_df_val\u001b[0m\u001b[0;34m(\u001b[0m\u001b[0mdf\u001b[0m\u001b[0;34m,\u001b[0m \u001b[0;34m'fname'\u001b[0m\u001b[0;34m,\u001b[0m \u001b[0;34m'sample3'\u001b[0m\u001b[0;34m)\u001b[0m\u001b[0;34m\u001b[0m\u001b[0;34m\u001b[0m\u001b[0m\n\u001b[0m",
      "\u001b[0;32m<ipython-input-14-b1bd215d55f4>\u001b[0m in \u001b[0;36mget_df_val\u001b[0;34m(df, col, sample)\u001b[0m\n\u001b[1;32m      1\u001b[0m \u001b[0;32mdef\u001b[0m \u001b[0mget_df_val\u001b[0m\u001b[0;34m(\u001b[0m\u001b[0mdf\u001b[0m\u001b[0;34m,\u001b[0m \u001b[0mcol\u001b[0m\u001b[0;34m,\u001b[0m \u001b[0msample\u001b[0m\u001b[0;34m)\u001b[0m\u001b[0;34m:\u001b[0m\u001b[0;34m\u001b[0m\u001b[0;34m\u001b[0m\u001b[0m\n\u001b[1;32m      2\u001b[0m     \u001b[0mtemp\u001b[0m \u001b[0;34m=\u001b[0m \u001b[0mdf\u001b[0m\u001b[0;34m.\u001b[0m\u001b[0mloc\u001b[0m\u001b[0;34m[\u001b[0m\u001b[0mdf\u001b[0m\u001b[0;34m[\u001b[0m\u001b[0;34m'sample'\u001b[0m\u001b[0;34m]\u001b[0m\u001b[0;34m==\u001b[0m\u001b[0msample\u001b[0m\u001b[0;34m]\u001b[0m\u001b[0;34m\u001b[0m\u001b[0;34m\u001b[0m\u001b[0m\n\u001b[0;32m----> 3\u001b[0;31m     \u001b[0;32massert\u001b[0m \u001b[0mlen\u001b[0m\u001b[0;34m(\u001b[0m\u001b[0mtemp\u001b[0m\u001b[0;34m.\u001b[0m\u001b[0mindex\u001b[0m\u001b[0;34m)\u001b[0m \u001b[0;34m==\u001b[0m \u001b[0;36m1\u001b[0m\u001b[0;34m\u001b[0m\u001b[0;34m\u001b[0m\u001b[0m\n\u001b[0m\u001b[1;32m      4\u001b[0m     \u001b[0;32mreturn\u001b[0m \u001b[0mtemp\u001b[0m\u001b[0;34m[\u001b[0m\u001b[0mcol\u001b[0m\u001b[0;34m]\u001b[0m\u001b[0;34m.\u001b[0m\u001b[0mvalues\u001b[0m\u001b[0;34m[\u001b[0m\u001b[0;36m0\u001b[0m\u001b[0;34m]\u001b[0m\u001b[0;34m\u001b[0m\u001b[0;34m\u001b[0m\u001b[0m\n",
      "\u001b[0;31mAssertionError\u001b[0m: "
     ]
    }
   ],
   "source": [
    "get_df_val(df, 'fname', 'sample3')"
   ]
  },
  {
   "cell_type": "code",
   "execution_count": null,
   "id": "e9f477c2-cbaa-4ed2-904e-17e3c6f9a707",
   "metadata": {},
   "outputs": [],
   "source": []
  }
 ],
 "metadata": {
  "kernelspec": {
   "display_name": "Python 3",
   "language": "python",
   "name": "python3"
  },
  "language_info": {
   "codemirror_mode": {
    "name": "ipython",
    "version": 3
   },
   "file_extension": ".py",
   "mimetype": "text/x-python",
   "name": "python",
   "nbconvert_exporter": "python",
   "pygments_lexer": "ipython3",
   "version": "3.7.12"
  }
 },
 "nbformat": 4,
 "nbformat_minor": 5
}

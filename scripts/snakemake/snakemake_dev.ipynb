{
 "cells": [
  {
   "cell_type": "code",
   "execution_count": 2,
   "id": "6e3fef9b-506b-44dd-8188-add4a208ded5",
   "metadata": {},
   "outputs": [],
   "source": [
    "import pandas as pd\n",
    "from snakemake.io import expand\n",
    "import yaml"
   ]
  },
  {
   "cell_type": "code",
   "execution_count": 3,
   "id": "9eabbc0a-de38-4d5c-8294-a7b3a602e483",
   "metadata": {},
   "outputs": [],
   "source": [
    "configfile = 'config.yml'\n",
    "with open(configfile, 'r') as f:\n",
    "    config = yaml.safe_load(f)"
   ]
  },
  {
   "cell_type": "code",
   "execution_count": 7,
   "id": "62368ae4-f5ea-4079-b584-549e550e4a19",
   "metadata": {},
   "outputs": [],
   "source": [
    "chromosome_tsv = 'chromosomes.tsv'\n",
    "chromosome_obj = pd.read_csv(chromosome_tsv, sep='\\t')\n",
    "chroms = chromosome_obj.chr.tolist()\n",
    "# chroms\n",
    "\n"
   ]
  },
  {
   "cell_type": "code",
   "execution_count": 9,
   "id": "92f66785-ad1d-41f7-a1ce-26ec9a92e34f",
   "metadata": {},
   "outputs": [
    {
     "ename": "WildcardError",
     "evalue": "No values given for wildcard 'sample'.",
     "output_type": "error",
     "traceback": [
      "\u001b[0;31m---------------------------------------------------------------------------\u001b[0m",
      "\u001b[0;31mKeyError\u001b[0m                                  Traceback (most recent call last)",
      "\u001b[0;32m~/miniconda3/lib/python3.7/site-packages/snakemake/io.py\u001b[0m in \u001b[0;36mexpand\u001b[0;34m(*args, **wildcards)\u001b[0m\n\u001b[1;32m   1204\u001b[0m             \u001b[0mformatter\u001b[0m\u001b[0;34m.\u001b[0m\u001b[0mvformat\u001b[0m\u001b[0;34m(\u001b[0m\u001b[0mfilepattern\u001b[0m\u001b[0;34m,\u001b[0m \u001b[0;34m(\u001b[0m\u001b[0;34m)\u001b[0m\u001b[0;34m,\u001b[0m \u001b[0mcomb\u001b[0m\u001b[0;34m)\u001b[0m\u001b[0;34m\u001b[0m\u001b[0;34m\u001b[0m\u001b[0m\n\u001b[0;32m-> 1205\u001b[0;31m             \u001b[0;32mfor\u001b[0m \u001b[0mfilepattern\u001b[0m \u001b[0;32min\u001b[0m \u001b[0mfilepatterns\u001b[0m\u001b[0;34m\u001b[0m\u001b[0;34m\u001b[0m\u001b[0m\n\u001b[0m\u001b[1;32m   1206\u001b[0m             \u001b[0;32mfor\u001b[0m \u001b[0mcomb\u001b[0m \u001b[0;32min\u001b[0m \u001b[0mmap\u001b[0m\u001b[0;34m(\u001b[0m\u001b[0mformat_dict\u001b[0m\u001b[0;34m,\u001b[0m \u001b[0mcombinator\u001b[0m\u001b[0;34m(\u001b[0m\u001b[0;34m*\u001b[0m\u001b[0mflatten\u001b[0m\u001b[0;34m(\u001b[0m\u001b[0mwildcards\u001b[0m\u001b[0;34m[\u001b[0m\u001b[0mfilepattern\u001b[0m\u001b[0;34m]\u001b[0m\u001b[0;34m)\u001b[0m\u001b[0;34m)\u001b[0m\u001b[0;34m)\u001b[0m\u001b[0;34m\u001b[0m\u001b[0;34m\u001b[0m\u001b[0m\n",
      "\u001b[0;32m~/miniconda3/lib/python3.7/site-packages/snakemake/io.py\u001b[0m in \u001b[0;36m<listcomp>\u001b[0;34m(.0)\u001b[0m\n\u001b[1;32m   1205\u001b[0m             \u001b[0;32mfor\u001b[0m \u001b[0mfilepattern\u001b[0m \u001b[0;32min\u001b[0m \u001b[0mfilepatterns\u001b[0m\u001b[0;34m\u001b[0m\u001b[0;34m\u001b[0m\u001b[0m\n\u001b[0;32m-> 1206\u001b[0;31m             \u001b[0;32mfor\u001b[0m \u001b[0mcomb\u001b[0m \u001b[0;32min\u001b[0m \u001b[0mmap\u001b[0m\u001b[0;34m(\u001b[0m\u001b[0mformat_dict\u001b[0m\u001b[0;34m,\u001b[0m \u001b[0mcombinator\u001b[0m\u001b[0;34m(\u001b[0m\u001b[0;34m*\u001b[0m\u001b[0mflatten\u001b[0m\u001b[0;34m(\u001b[0m\u001b[0mwildcards\u001b[0m\u001b[0;34m[\u001b[0m\u001b[0mfilepattern\u001b[0m\u001b[0;34m]\u001b[0m\u001b[0;34m)\u001b[0m\u001b[0;34m)\u001b[0m\u001b[0;34m)\u001b[0m\u001b[0;34m\u001b[0m\u001b[0;34m\u001b[0m\u001b[0m\n\u001b[0m\u001b[1;32m   1207\u001b[0m         ]\n",
      "\u001b[0;32m~/miniconda3/lib/python3.7/string.py\u001b[0m in \u001b[0;36mvformat\u001b[0;34m(self, format_string, args, kwargs)\u001b[0m\n\u001b[1;32m    189\u001b[0m         \u001b[0mused_args\u001b[0m \u001b[0;34m=\u001b[0m \u001b[0mset\u001b[0m\u001b[0;34m(\u001b[0m\u001b[0;34m)\u001b[0m\u001b[0;34m\u001b[0m\u001b[0;34m\u001b[0m\u001b[0m\n\u001b[0;32m--> 190\u001b[0;31m         \u001b[0mresult\u001b[0m\u001b[0;34m,\u001b[0m \u001b[0m_\u001b[0m \u001b[0;34m=\u001b[0m \u001b[0mself\u001b[0m\u001b[0;34m.\u001b[0m\u001b[0m_vformat\u001b[0m\u001b[0;34m(\u001b[0m\u001b[0mformat_string\u001b[0m\u001b[0;34m,\u001b[0m \u001b[0margs\u001b[0m\u001b[0;34m,\u001b[0m \u001b[0mkwargs\u001b[0m\u001b[0;34m,\u001b[0m \u001b[0mused_args\u001b[0m\u001b[0;34m,\u001b[0m \u001b[0;36m2\u001b[0m\u001b[0;34m)\u001b[0m\u001b[0;34m\u001b[0m\u001b[0;34m\u001b[0m\u001b[0m\n\u001b[0m\u001b[1;32m    191\u001b[0m         \u001b[0mself\u001b[0m\u001b[0;34m.\u001b[0m\u001b[0mcheck_unused_args\u001b[0m\u001b[0;34m(\u001b[0m\u001b[0mused_args\u001b[0m\u001b[0;34m,\u001b[0m \u001b[0margs\u001b[0m\u001b[0;34m,\u001b[0m \u001b[0mkwargs\u001b[0m\u001b[0;34m)\u001b[0m\u001b[0;34m\u001b[0m\u001b[0;34m\u001b[0m\u001b[0m\n",
      "\u001b[0;32m~/miniconda3/lib/python3.7/string.py\u001b[0m in \u001b[0;36m_vformat\u001b[0;34m(self, format_string, args, kwargs, used_args, recursion_depth, auto_arg_index)\u001b[0m\n\u001b[1;32m    229\u001b[0m                 \u001b[0;31m#  and the argument it came from\u001b[0m\u001b[0;34m\u001b[0m\u001b[0;34m\u001b[0m\u001b[0;34m\u001b[0m\u001b[0m\n\u001b[0;32m--> 230\u001b[0;31m                 \u001b[0mobj\u001b[0m\u001b[0;34m,\u001b[0m \u001b[0marg_used\u001b[0m \u001b[0;34m=\u001b[0m \u001b[0mself\u001b[0m\u001b[0;34m.\u001b[0m\u001b[0mget_field\u001b[0m\u001b[0;34m(\u001b[0m\u001b[0mfield_name\u001b[0m\u001b[0;34m,\u001b[0m \u001b[0margs\u001b[0m\u001b[0;34m,\u001b[0m \u001b[0mkwargs\u001b[0m\u001b[0;34m)\u001b[0m\u001b[0;34m\u001b[0m\u001b[0;34m\u001b[0m\u001b[0m\n\u001b[0m\u001b[1;32m    231\u001b[0m                 \u001b[0mused_args\u001b[0m\u001b[0;34m.\u001b[0m\u001b[0madd\u001b[0m\u001b[0;34m(\u001b[0m\u001b[0marg_used\u001b[0m\u001b[0;34m)\u001b[0m\u001b[0;34m\u001b[0m\u001b[0;34m\u001b[0m\u001b[0m\n",
      "\u001b[0;32m~/miniconda3/lib/python3.7/string.py\u001b[0m in \u001b[0;36mget_field\u001b[0;34m(self, field_name, args, kwargs)\u001b[0m\n\u001b[1;32m    294\u001b[0m \u001b[0;34m\u001b[0m\u001b[0m\n\u001b[0;32m--> 295\u001b[0;31m         \u001b[0mobj\u001b[0m \u001b[0;34m=\u001b[0m \u001b[0mself\u001b[0m\u001b[0;34m.\u001b[0m\u001b[0mget_value\u001b[0m\u001b[0;34m(\u001b[0m\u001b[0mfirst\u001b[0m\u001b[0;34m,\u001b[0m \u001b[0margs\u001b[0m\u001b[0;34m,\u001b[0m \u001b[0mkwargs\u001b[0m\u001b[0;34m)\u001b[0m\u001b[0;34m\u001b[0m\u001b[0;34m\u001b[0m\u001b[0m\n\u001b[0m\u001b[1;32m    296\u001b[0m \u001b[0;34m\u001b[0m\u001b[0m\n",
      "\u001b[0;32m~/miniconda3/lib/python3.7/string.py\u001b[0m in \u001b[0;36mget_value\u001b[0;34m(self, key, args, kwargs)\u001b[0m\n\u001b[1;32m    251\u001b[0m         \u001b[0;32melse\u001b[0m\u001b[0;34m:\u001b[0m\u001b[0;34m\u001b[0m\u001b[0;34m\u001b[0m\u001b[0m\n\u001b[0;32m--> 252\u001b[0;31m             \u001b[0;32mreturn\u001b[0m \u001b[0mkwargs\u001b[0m\u001b[0;34m[\u001b[0m\u001b[0mkey\u001b[0m\u001b[0;34m]\u001b[0m\u001b[0;34m\u001b[0m\u001b[0;34m\u001b[0m\u001b[0m\n\u001b[0m\u001b[1;32m    253\u001b[0m \u001b[0;34m\u001b[0m\u001b[0m\n",
      "\u001b[0;31mKeyError\u001b[0m: 'sample'",
      "\nDuring handling of the above exception, another exception occurred:\n",
      "\u001b[0;31mWildcardError\u001b[0m                             Traceback (most recent call last)",
      "\u001b[0;32m<ipython-input-9-9e0d0bcfb96b>\u001b[0m in \u001b[0;36m<module>\u001b[0;34m\u001b[0m\n\u001b[1;32m      3\u001b[0m \u001b[0;31m#                                      chroms=chroms)\u001b[0m\u001b[0;34m\u001b[0m\u001b[0;34m\u001b[0m\u001b[0;34m\u001b[0m\u001b[0m\n\u001b[1;32m      4\u001b[0m expand(file,\n\u001b[0;32m----> 5\u001b[0;31m        chroms=chroms)\n\u001b[0m",
      "\u001b[0;32m~/miniconda3/lib/python3.7/site-packages/snakemake/io.py\u001b[0m in \u001b[0;36mexpand\u001b[0;34m(*args, **wildcards)\u001b[0m\n\u001b[1;32m   1207\u001b[0m         ]\n\u001b[1;32m   1208\u001b[0m     \u001b[0;32mexcept\u001b[0m \u001b[0mKeyError\u001b[0m \u001b[0;32mas\u001b[0m \u001b[0me\u001b[0m\u001b[0;34m:\u001b[0m\u001b[0;34m\u001b[0m\u001b[0;34m\u001b[0m\u001b[0m\n\u001b[0;32m-> 1209\u001b[0;31m         \u001b[0;32mraise\u001b[0m \u001b[0mWildcardError\u001b[0m\u001b[0;34m(\u001b[0m\u001b[0;34m\"No values given for wildcard {}.\"\u001b[0m\u001b[0;34m.\u001b[0m\u001b[0mformat\u001b[0m\u001b[0;34m(\u001b[0m\u001b[0me\u001b[0m\u001b[0;34m)\u001b[0m\u001b[0;34m)\u001b[0m\u001b[0;34m\u001b[0m\u001b[0;34m\u001b[0m\u001b[0m\n\u001b[0m\u001b[1;32m   1210\u001b[0m \u001b[0;34m\u001b[0m\u001b[0m\n\u001b[1;32m   1211\u001b[0m \u001b[0;34m\u001b[0m\u001b[0m\n",
      "\u001b[0;31mWildcardError\u001b[0m: No values given for wildcard 'sample'."
     ]
    }
   ],
   "source": [
    "file = config['data']['vc']['gatk']['vcf_gz_splitted']\n",
    "# expand(rules.vc_call_variants.output.vcf,\n",
    "#                                      chroms=chroms)\n",
    "expand(file,\n",
    "       chroms=chroms,\n",
    "       sample='my_sample')"
   ]
  },
  {
   "cell_type": "code",
   "execution_count": null,
   "id": "026cd557-60c2-4567-a097-5b891076b938",
   "metadata": {},
   "outputs": [],
   "source": []
  },
  {
   "cell_type": "code",
   "execution_count": null,
   "id": "f169ce26-9b66-45fd-927a-f5ae0719f59e",
   "metadata": {},
   "outputs": [],
   "source": []
  },
  {
   "cell_type": "code",
   "execution_count": null,
   "id": "3c77fd56-41bc-4fb5-844c-ec4a5315538d",
   "metadata": {},
   "outputs": [],
   "source": []
  },
  {
   "cell_type": "code",
   "execution_count": 6,
   "id": "45bcec41-ece2-487c-888f-f104d7e4a655",
   "metadata": {},
   "outputs": [],
   "source": [
    "# config"
   ]
  },
  {
   "cell_type": "code",
   "execution_count": 8,
   "id": "2f58426b-9f68-4e78-bcac-818b81501594",
   "metadata": {},
   "outputs": [
    {
     "data": {
      "text/plain": [
       "['chr1',\n",
       " 'chr2',\n",
       " 'chr3',\n",
       " 'chr4',\n",
       " 'chr5',\n",
       " 'chr6',\n",
       " 'chr7',\n",
       " 'chr8',\n",
       " 'chr9',\n",
       " 'chr10',\n",
       " 'chr11',\n",
       " 'chr12',\n",
       " 'chr13',\n",
       " 'chr14',\n",
       " 'chr15',\n",
       " 'chr16',\n",
       " 'chr17',\n",
       " 'chr18',\n",
       " 'chr19',\n",
       " 'chr20',\n",
       " 'chr21',\n",
       " 'chr22']"
      ]
     },
     "execution_count": 8,
     "metadata": {},
     "output_type": "execute_result"
    }
   ],
   "source": [
    "chromosome_tsv a= 'chromosomes.tsv'\n",
    "chromosome_obj = pd.read_csv(chromosome_tsv, sep='\\t')\n",
    "chroms = chromosome_obj.chr.tolist()\n",
    "chroms\n",
    "\n"
   ]
  },
  {
   "cell_type": "code",
   "execution_count": 9,
   "id": "03168855-0105-400f-b651-9ef8a6b4ce10",
   "metadata": {},
   "outputs": [
    {
     "data": {
      "text/plain": [
       "['data/merged/splitchr_raw/samplesmerge_complete.chr1.vcf',\n",
       " 'data/merged/splitchr_raw/samplesmerge_complete.chr2.vcf',\n",
       " 'data/merged/splitchr_raw/samplesmerge_complete.chr3.vcf',\n",
       " 'data/merged/splitchr_raw/samplesmerge_complete.chr4.vcf',\n",
       " 'data/merged/splitchr_raw/samplesmerge_complete.chr5.vcf',\n",
       " 'data/merged/splitchr_raw/samplesmerge_complete.chr6.vcf',\n",
       " 'data/merged/splitchr_raw/samplesmerge_complete.chr7.vcf',\n",
       " 'data/merged/splitchr_raw/samplesmerge_complete.chr8.vcf',\n",
       " 'data/merged/splitchr_raw/samplesmerge_complete.chr9.vcf',\n",
       " 'data/merged/splitchr_raw/samplesmerge_complete.chr10.vcf',\n",
       " 'data/merged/splitchr_raw/samplesmerge_complete.chr11.vcf',\n",
       " 'data/merged/splitchr_raw/samplesmerge_complete.chr12.vcf',\n",
       " 'data/merged/splitchr_raw/samplesmerge_complete.chr13.vcf',\n",
       " 'data/merged/splitchr_raw/samplesmerge_complete.chr14.vcf',\n",
       " 'data/merged/splitchr_raw/samplesmerge_complete.chr15.vcf',\n",
       " 'data/merged/splitchr_raw/samplesmerge_complete.chr16.vcf',\n",
       " 'data/merged/splitchr_raw/samplesmerge_complete.chr17.vcf',\n",
       " 'data/merged/splitchr_raw/samplesmerge_complete.chr18.vcf',\n",
       " 'data/merged/splitchr_raw/samplesmerge_complete.chr19.vcf',\n",
       " 'data/merged/splitchr_raw/samplesmerge_complete.chr20.vcf',\n",
       " 'data/merged/splitchr_raw/samplesmerge_complete.chr21.vcf',\n",
       " 'data/merged/splitchr_raw/samplesmerge_complete.chr22.vcf']"
      ]
     },
     "execution_count": 9,
     "metadata": {},
     "output_type": "execute_result"
    }
   ],
   "source": [
    "expand(config['data']['vc']['filters']['chromosome'],\n",
    "               chromosome=chroms)"
   ]
  },
  {
   "cell_type": "code",
   "execution_count": null,
   "id": "ef8828a1-05a1-43db-81d4-b2a98325df13",
   "metadata": {},
   "outputs": [],
   "source": []
  }
 ],
 "metadata": {
  "kernelspec": {
   "display_name": "Python 3",
   "language": "python",
   "name": "python3"
  },
  "language_info": {
   "codemirror_mode": {
    "name": "ipython",
    "version": 3
   },
   "file_extension": ".py",
   "mimetype": "text/x-python",
   "name": "python",
   "nbconvert_exporter": "python",
   "pygments_lexer": "ipython3",
   "version": "3.7.12"
  }
 },
 "nbformat": 4,
 "nbformat_minor": 5
}

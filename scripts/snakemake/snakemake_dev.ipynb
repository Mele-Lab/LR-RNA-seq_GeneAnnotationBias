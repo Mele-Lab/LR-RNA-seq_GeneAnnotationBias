{
 "cells": [
  {
   "cell_type": "code",
   "execution_count": 3,
   "id": "6e3fef9b-506b-44dd-8188-add4a208ded5",
   "metadata": {},
   "outputs": [],
   "source": [
    "import pandas as pd\n",
    "from snakemake.io import expand\n",
    "import yaml"
   ]
  },
  {
   "cell_type": "code",
   "execution_count": 4,
   "id": "9eabbc0a-de38-4d5c-8294-a7b3a602e483",
   "metadata": {},
   "outputs": [],
   "source": [
    "configfile = 'config.yml'\n",
    "with open(configfile, 'r') as f:\n",
    "    config = yaml.safe_load(f)"
   ]
  },
  {
   "cell_type": "code",
   "execution_count": 6,
   "id": "45bcec41-ece2-487c-888f-f104d7e4a655",
   "metadata": {},
   "outputs": [],
   "source": [
    "# config"
   ]
  },
  {
   "cell_type": "code",
   "execution_count": 8,
   "id": "2f58426b-9f68-4e78-bcac-818b81501594",
   "metadata": {},
   "outputs": [
    {
     "data": {
      "text/plain": [
       "['chr1',\n",
       " 'chr2',\n",
       " 'chr3',\n",
       " 'chr4',\n",
       " 'chr5',\n",
       " 'chr6',\n",
       " 'chr7',\n",
       " 'chr8',\n",
       " 'chr9',\n",
       " 'chr10',\n",
       " 'chr11',\n",
       " 'chr12',\n",
       " 'chr13',\n",
       " 'chr14',\n",
       " 'chr15',\n",
       " 'chr16',\n",
       " 'chr17',\n",
       " 'chr18',\n",
       " 'chr19',\n",
       " 'chr20',\n",
       " 'chr21',\n",
       " 'chr22']"
      ]
     },
     "execution_count": 8,
     "metadata": {},
     "output_type": "execute_result"
    }
   ],
   "source": [
    "chromosome_tsv = 'chromosomes.tsv'\n",
    "chromosome_obj = pd.read_csv(chromosome_tsv, sep='\\t')\n",
    "chroms = chromosome_obj.chr.tolist()\n",
    "chroms\n",
    "\n"
   ]
  },
  {
   "cell_type": "code",
   "execution_count": 9,
   "id": "03168855-0105-400f-b651-9ef8a6b4ce10",
   "metadata": {},
   "outputs": [
    {
     "data": {
      "text/plain": [
       "['data/merged/splitchr_raw/samplesmerge_complete.chr1.vcf',\n",
       " 'data/merged/splitchr_raw/samplesmerge_complete.chr2.vcf',\n",
       " 'data/merged/splitchr_raw/samplesmerge_complete.chr3.vcf',\n",
       " 'data/merged/splitchr_raw/samplesmerge_complete.chr4.vcf',\n",
       " 'data/merged/splitchr_raw/samplesmerge_complete.chr5.vcf',\n",
       " 'data/merged/splitchr_raw/samplesmerge_complete.chr6.vcf',\n",
       " 'data/merged/splitchr_raw/samplesmerge_complete.chr7.vcf',\n",
       " 'data/merged/splitchr_raw/samplesmerge_complete.chr8.vcf',\n",
       " 'data/merged/splitchr_raw/samplesmerge_complete.chr9.vcf',\n",
       " 'data/merged/splitchr_raw/samplesmerge_complete.chr10.vcf',\n",
       " 'data/merged/splitchr_raw/samplesmerge_complete.chr11.vcf',\n",
       " 'data/merged/splitchr_raw/samplesmerge_complete.chr12.vcf',\n",
       " 'data/merged/splitchr_raw/samplesmerge_complete.chr13.vcf',\n",
       " 'data/merged/splitchr_raw/samplesmerge_complete.chr14.vcf',\n",
       " 'data/merged/splitchr_raw/samplesmerge_complete.chr15.vcf',\n",
       " 'data/merged/splitchr_raw/samplesmerge_complete.chr16.vcf',\n",
       " 'data/merged/splitchr_raw/samplesmerge_complete.chr17.vcf',\n",
       " 'data/merged/splitchr_raw/samplesmerge_complete.chr18.vcf',\n",
       " 'data/merged/splitchr_raw/samplesmerge_complete.chr19.vcf',\n",
       " 'data/merged/splitchr_raw/samplesmerge_complete.chr20.vcf',\n",
       " 'data/merged/splitchr_raw/samplesmerge_complete.chr21.vcf',\n",
       " 'data/merged/splitchr_raw/samplesmerge_complete.chr22.vcf']"
      ]
     },
     "execution_count": 9,
     "metadata": {},
     "output_type": "execute_result"
    }
   ],
   "source": [
    "expand(config['data']['vc']['filters']['chromosome'],\n",
    "               chromosome=chroms)"
   ]
  },
  {
   "cell_type": "code",
   "execution_count": null,
   "id": "ef8828a1-05a1-43db-81d4-b2a98325df13",
   "metadata": {},
   "outputs": [],
   "source": []
  }
 ],
 "metadata": {
  "kernelspec": {
   "display_name": "Python 3",
   "language": "python",
   "name": "python3"
  },
  "language_info": {
   "codemirror_mode": {
    "name": "ipython",
    "version": 3
   },
   "file_extension": ".py",
   "mimetype": "text/x-python",
   "name": "python",
   "nbconvert_exporter": "python",
   "pygments_lexer": "ipython3",
   "version": "3.7.12"
  }
 },
 "nbformat": 4,
 "nbformat_minor": 5
}
